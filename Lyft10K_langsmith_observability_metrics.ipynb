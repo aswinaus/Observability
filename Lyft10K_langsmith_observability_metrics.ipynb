{
  "cells": [
    {
      "cell_type": "markdown",
      "metadata": {
        "id": "view-in-github",
        "colab_type": "text"
      },
      "source": [
        "<a href=\"https://colab.research.google.com/github/aswinaus/Observability/blob/main/Lyft10K_langsmith_observability_metrics.ipynb\" target=\"_parent\"><img src=\"https://colab.research.google.com/assets/colab-badge.svg\" alt=\"Open In Colab\"/></a>"
      ]
    },
    {
      "cell_type": "code",
      "execution_count": null,
      "metadata": {
        "id": "fXi4vN8Xz3ab"
      },
      "outputs": [],
      "source": [
        "import os"
      ]
    },
    {
      "cell_type": "code",
      "execution_count": null,
      "metadata": {
        "id": "huxDjqeWyGFU"
      },
      "outputs": [],
      "source": [
        "!pip install pdfminer.six langsmith langchain langchain_openai chromadb pypdf nest_asyncio"
      ]
    },
    {
      "cell_type": "code",
      "source": [
        "import nest_asyncio\n",
        "nest_asyncio.apply()"
      ],
      "metadata": {
        "id": "2XX889XkwvZ5"
      },
      "execution_count": null,
      "outputs": []
    },
    {
      "cell_type": "code",
      "source": [
        "from google.colab import drive\n",
        "drive.mount('/content/drive')"
      ],
      "metadata": {
        "id": "zZEr0TKMZHpu"
      },
      "execution_count": null,
      "outputs": []
    },
    {
      "cell_type": "code",
      "execution_count": null,
      "metadata": {
        "id": "bZGV0yQazm2m"
      },
      "outputs": [],
      "source": [
        "from pdfminer.high_level import extract_text\n",
        "\n",
        "def extract_text_from_pdf(pdf_path):\n",
        "    return extract_text(pdf_path)"
      ]
    },
    {
      "cell_type": "code",
      "source": [
        "# Download Data\n",
        "data_dir = '/content/drive/MyDrive' # Input a data dir path from your mounted Google Drive"
      ],
      "metadata": {
        "id": "c7TxMGVaZVwG"
      },
      "execution_count": null,
      "outputs": []
    },
    {
      "cell_type": "code",
      "source": [
        "# step 1: upload a PDF to the root of the file browser\n",
        "# then change the variable below to be the name of your file\n",
        "file_name = 'uber_10k_2023'"
      ],
      "metadata": {
        "id": "kWSGCX3XV1S4"
      },
      "execution_count": null,
      "outputs": []
    },
    {
      "cell_type": "code",
      "source": [
        "pdf_text = extract_text_from_pdf(f\"{data_dir}/RAG/data/10k/uber_10k_2023.pdf\")"
      ],
      "metadata": {
        "id": "bZPr4SpnTtv6"
      },
      "execution_count": null,
      "outputs": []
    },
    {
      "cell_type": "code",
      "source": [
        "pdf_text.split('\\n')[0:10000]"
      ],
      "metadata": {
        "id": "x-1ewZXmUWNW"
      },
      "execution_count": null,
      "outputs": []
    },
    {
      "cell_type": "code",
      "source": [
        "! pip install langchain-community\n"
      ],
      "metadata": {
        "id": "lLYNy_cVc_tR"
      },
      "execution_count": null,
      "outputs": []
    },
    {
      "cell_type": "code",
      "source": [
        "!pip install chromadb openai"
      ],
      "metadata": {
        "id": "IrMeiAHIeCQM"
      },
      "execution_count": null,
      "outputs": []
    },
    {
      "cell_type": "code",
      "source": [
        "import chromadb\n",
        "from langchain.embeddings import OpenAIEmbeddings"
      ],
      "metadata": {
        "id": "6CMqEHHQeRZP"
      },
      "execution_count": null,
      "outputs": []
    },
    {
      "cell_type": "code",
      "source": [
        "from langchain.text_splitter import RecursiveCharacterTextSplitter\n",
        "from langchain_community.document_loaders import PyPDFLoader\n",
        "\n",
        "text_splitter = RecursiveCharacterTextSplitter.from_tiktoken_encoder(\n",
        "    chunk_size=300,\n",
        "    chunk_overlap=50\n",
        ")\n",
        "loader = PyPDFLoader(f\"{data_dir}/RAG/data/10k/uber_10k_2023.pdf\")\n",
        "# load_and_split uses RecursiveCharacterTextSplitter by default, but here I customize the chunk size & overlap\n",
        "pages = loader.load_and_split(text_splitter)"
      ],
      "metadata": {
        "id": "IJ03AtpqMTfr"
      },
      "execution_count": null,
      "outputs": []
    },
    {
      "cell_type": "code",
      "source": [
        "from google.colab import userdata\n",
        "os.environ[\"OPENAI_API_KEY\"] = userdata.get('OPENAI_API_KEY')"
      ],
      "metadata": {
        "id": "hIptf7tPgJqj"
      },
      "execution_count": null,
      "outputs": []
    },
    {
      "cell_type": "code",
      "source": [
        "# create vector store with Chroma\n",
        "from langchain_openai import OpenAIEmbeddings\n",
        "from langchain_community.vectorstores import Chroma\n",
        "from langchain_community.vectorstores.utils import filter_complex_metadata # import filter_complex_metadata\n",
        "\n",
        "openai_api_key = os.environ[\"OPENAI_API_KEY\"]\n",
        "# filtered_chunked_markdown = filter_complex_metadata(chunked_markdown)\n",
        "\n",
        "#index = Chroma.from_documents(documents=pages, embedding=OpenAIEmbeddings(openai_api_key=os.environ[\"OPENAI_API_KEY\"]))\n",
        "\n",
        "vectordb = Chroma.from_documents(documents=pages, embedding=OpenAIEmbeddings(openai_api_key=os.environ[\"OPENAI_API_KEY\"]),persist_directory=f\"{data_dir}/RAG/VectorDB/chroma_db_RAG_FOR_Evals\")\n",
        "vectordb.persist()\n",
        "retriever = vectordb.as_retriever()"
      ],
      "metadata": {
        "id": "SKiEmXKUpkw7"
      },
      "execution_count": null,
      "outputs": []
    },
    {
      "cell_type": "code",
      "source": [
        "# multi-query\n",
        "from langchain.prompts import ChatPromptTemplate\n",
        "\n",
        "template = \"\"\"You are an AI language model Accounting assistant. Your task is to generate five\n",
        "different versions of the given user question to retrieve relevant documents from a vector\n",
        "database. By generating multiple perspectives on the user question, your goal is to help\n",
        "the user overcome some of the limitations of the distance-based similarity search.\n",
        "Provide these alternative questions separated by newlines. Original question: {question}\"\"\"\n",
        "prompt_perspectives = ChatPromptTemplate.from_template(template)\n",
        "\n",
        "from langchain_core.output_parsers import StrOutputParser\n",
        "from langchain_openai import ChatOpenAI\n",
        "\n",
        "generate_queries = (\n",
        "    prompt_perspectives\n",
        "    | ChatOpenAI(temperature=0, openai_api_key=openai_api_key)\n",
        "    | StrOutputParser()\n",
        "    | (lambda x: x.split(\"\\n\"))\n",
        ")"
      ],
      "metadata": {
        "id": "97K0pYTM8Vbp"
      },
      "execution_count": null,
      "outputs": []
    },
    {
      "cell_type": "code",
      "source": [
        "questiononRevenue = \"Please summarize Financial and Operational Highlights for Uber?\""
      ],
      "metadata": {
        "id": "SO4SPXTqbrra"
      },
      "execution_count": null,
      "outputs": []
    },
    {
      "cell_type": "code",
      "source": [
        "generate_queries.invoke(questiononRevenue)"
      ],
      "metadata": {
        "id": "dbtMR8sdbw3R"
      },
      "execution_count": null,
      "outputs": []
    },
    {
      "cell_type": "code",
      "source": [
        "question = \"Could you give me a concise overview of the Business strategies employed by Uber?\""
      ],
      "metadata": {
        "id": "nTcBtmM0Naox"
      },
      "execution_count": null,
      "outputs": []
    },
    {
      "cell_type": "code",
      "source": [
        "generate_queries.invoke(question)"
      ],
      "metadata": {
        "id": "wheaWAzFAlCE"
      },
      "execution_count": null,
      "outputs": []
    },
    {
      "cell_type": "code",
      "source": [
        "# Retrieve docs given a list of queries\n",
        "from langchain.retrievers.multi_query import MultiQueryRetriever\n",
        "from langchain_openai import ChatOpenAI\n",
        "\n",
        "llm = ChatOpenAI(temperature=0, openai_api_key=openai_api_key)\n",
        "\n",
        "#retriever = MultiQueryRetriever.from_llm(\n",
        "#    retriever=index.as_retriever(), llm=llm\n",
        "#)"
      ],
      "metadata": {
        "id": "bXJGMOQGvBj0"
      },
      "execution_count": null,
      "outputs": []
    },
    {
      "cell_type": "markdown",
      "source": [
        "**This section of the code focuses on refining the search results obtained from the vector database. It aims to improve the quality of the results by reranking the documents based on a scoring system.**\n",
        "\n",
        "![image.png](data:image/png;base64,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)"
      ],
      "metadata": {
        "id": "IvDoFd8poB-Y"
      }
    },
    {
      "cell_type": "code",
      "source": [
        "# Rank documents\n",
        "from langchain.load import dumps, loads\n",
        "\n",
        "def rank_documents(results: list[list], k=60):\n",
        "    fused_scores = {}\n",
        "\n",
        "    for docs in results:\n",
        "        for rank, doc in enumerate(docs):\n",
        "            doc_str = dumps(doc)\n",
        "            if doc_str not in fused_scores:\n",
        "                fused_scores[doc_str] = 0\n",
        "            previous_score = fused_scores[doc_str]\n",
        "            fused_scores[doc_str] += 1 / (rank + k)\n",
        "\n",
        "    reranked_results = [\n",
        "        (loads(doc), score)\n",
        "        for doc, score in sorted(fused_scores.items(), key=lambda x: x[1], reverse=True)\n",
        "    ]\n",
        "\n",
        "    return reranked_results\n",
        "\n",
        "retrieval_chain = generate_queries | retriever.map() | rank_documents\n",
        "docs = retrieval_chain.invoke(questiononRevenue)"
      ],
      "metadata": {
        "id": "yhPQwRDdGRsF"
      },
      "execution_count": null,
      "outputs": []
    },
    {
      "cell_type": "code",
      "source": [
        "docs"
      ],
      "metadata": {
        "id": "_ZjOjGUhxDAX"
      },
      "execution_count": null,
      "outputs": []
    },
    {
      "cell_type": "code",
      "source": [
        "#Creating a RAG Pipeline\n",
        "from operator import itemgetter\n",
        "from langchain_core.runnables import RunnablePassthrough\n",
        "\n",
        "\n",
        "# RAG\n",
        "template = \"\"\"Answer the following question based on this context:\n",
        "\n",
        "{context}\n",
        "\n",
        "Question: {question}\n",
        "\"\"\"\n",
        "\n",
        "prompt = ChatPromptTemplate.from_template(template)\n",
        "\n",
        "\n",
        "llm = ChatOpenAI(temperature=0, openai_api_key=openai_api_key)\n",
        "\n",
        "# Chain\n",
        "final_rag_chain = (\n",
        "    {\"context\": retrieval_chain, \"question\": RunnablePassthrough()}\n",
        "    | prompt\n",
        "    | llm\n",
        "    | StrOutputParser()\n",
        ")\n",
        "\n",
        "final_rag_chain.invoke({\"question\":question})"
      ],
      "metadata": {
        "id": "PqRt164pUbYg"
      },
      "execution_count": null,
      "outputs": []
    },
    {
      "cell_type": "code",
      "source": [
        "os.environ[\"LANGSMITH_TRACING\"]=\"true\"\n",
        "os.environ[\"LANGSMITH_ENDPOINT\"]=\"https://api.smith.langchain.com\"\n",
        "os.environ[\"LANGSMITH_API_KEY\"]=userdata.get('LANGCHAIN_API_KEY')\n",
        "os.environ[\"LANGSMITH_PROJECT\"]=\"rag_observability\"\n",
        "os.environ[\"OPENAI_API_KEY\"]=userdata.get('OPENAI_API_KEY')"
      ],
      "metadata": {
        "id": "qnbeNXz_Z9kk"
      },
      "execution_count": null,
      "outputs": []
    },
    {
      "cell_type": "code",
      "source": [
        "import os\n",
        "print(f\"LANGSMITH_TRACING: {os.environ.get('LANGSMITH_TRACING')}\")\n",
        "print(f\"LANGSMITH_ENDPOINT: {os.environ.get('LANGSMITH_ENDPOINT')}\")\n",
        "print(f\"LANGSMITH_API_KEY: {os.environ.get('LANGSMITH_API_KEY')}\")\n",
        "print(f\"LANGSMITH_PROJECT: {os.environ.get('LANGSMITH_PROJECT')}\")"
      ],
      "metadata": {
        "id": "gu_7tDjac_hh"
      },
      "execution_count": null,
      "outputs": []
    },
    {
      "cell_type": "code",
      "source": [
        "LANGSMITH_TRACING=True\n",
        "LANGSMITH_ENDPOINT=\"https://api.smith.langchain.com\"\n",
        "LANGSMITH_API_KEY=userdata.get('LANGCHAIN_API_KEY')\n",
        "LANGSMITH_PROJECT=\"rag_observability\"\n",
        "OPENAI_API_KEY=userdata.get('OPENAI_API_KEY')"
      ],
      "metadata": {
        "id": "Pb4mQBo4gHug"
      },
      "execution_count": null,
      "outputs": []
    },
    {
      "cell_type": "code",
      "source": [
        "from langsmith import Client, traceable\n",
        "import openai\n",
        "from langchain.llms import OpenAI\n",
        "\n",
        "\n",
        "client = Client(api_key=LANGSMITH_API_KEY)\n",
        "\n",
        "#client = Client() # replace with your api key if you don't have environment variables set\n",
        "\n",
        "#@traceable(run_type=\"chain\")  # or client=client, if you don't have environment variables set\n",
        "@traceable(run_type=\"chain\", client=client, tracing_level=\"verbose\")\n",
        "def run_llm(prompt: str):\n",
        "    llm = OpenAI()  # or any other llm you want to test with\n",
        "    return llm(prompt)\n",
        "\n",
        "run_llm(\"what is the meaning of life in the context of an IT Engineer and how will that change in the AI world in future?\")"
      ],
      "metadata": {
        "id": "OLtdKouXfg_-"
      },
      "execution_count": null,
      "outputs": []
    },
    {
      "cell_type": "code",
      "source": [
        "import openai\n",
        "from langsmith.wrappers import wrap_openai\n",
        "from langsmith import traceable\n",
        "from langchain.prompts import ChatPromptTemplate\n",
        "from langchain_core.output_parsers import StrOutputParser\n",
        "from langchain_openai import ChatOpenAI\n",
        "from langchain.retrievers.multi_query import MultiQueryRetriever\n",
        "from langchain.load import dumps, loads\n",
        "from operator import itemgetter\n",
        "from langchain_core.runnables import RunnablePassthrough\n",
        "\n",
        "# Auto-trace LLM calls in-context\n",
        "#client = wrap_openai(openai.Client())\n",
        "client = Client(api_key=LANGSMITH_API_KEY)\n",
        "@traceable # Auto-trace this function\n",
        "def pipeline(user_input: str):\n",
        "    # --- final_rag_chain logic starts here ---\n",
        "\n",
        "    # generate_queries from final_rag_chain\n",
        "    template = \"\"\"You are an AI language model Accounting assistant. Your task is to generate five\n",
        "    different versions of the given user question to retrieve relevant documents from a vector\n",
        "    database. By generating multiple perspectives on the user question, your goal is to help\n",
        "    the user overcome some of the limitations of the distance-based similarity search.\n",
        "    Provide these alternative questions separated by newlines. Original question: {question}\"\"\"\n",
        "    prompt_perspectives = ChatPromptTemplate.from_template(template)\n",
        "\n",
        "    openai_api_key = os.environ[\"OPENAI_API_KEY\"]  # Assuming you have OPENAI_API_KEY set\n",
        "\n",
        "    generate_queries = (\n",
        "        prompt_perspectives\n",
        "        | ChatOpenAI(temperature=0, openai_api_key=openai_api_key)\n",
        "        | StrOutputParser()\n",
        "        | (lambda x: x.split(\"\\n\"))\n",
        "    )\n",
        "\n",
        "    # retriever from final_rag_chain (assuming you have 'vectordb' defined)\n",
        "    retriever = vectordb.as_retriever()\n",
        "\n",
        "    # rank_documents from final_rag_chain\n",
        "    def rank_documents(results: list[list], k=60):\n",
        "        fused_scores = {}\n",
        "        for docs in results:\n",
        "            for rank, doc in enumerate(docs):\n",
        "                doc_str = dumps(doc)\n",
        "                if doc_str not in fused_scores:\n",
        "                    fused_scores[doc_str] = 0\n",
        "                previous_score = fused_scores[doc_str]\n",
        "                fused_scores[doc_str] += 1 / (rank + k)\n",
        "\n",
        "        reranked_results = [\n",
        "            (loads(doc), score)\n",
        "            for doc, score in sorted(fused_scores.items(), key=lambda x: x[1], reverse=True)\n",
        "        ]\n",
        "        return reranked_results\n",
        "\n",
        "    retrieval_chain = generate_queries | retriever.map() | rank_documents\n",
        "\n",
        "    # RAG prompt from final_rag_chain\n",
        "    template = \"\"\"Answer the following question based on this context:\n",
        "\n",
        "    {context}\n",
        "\n",
        "    Question: {question}\n",
        "    \"\"\"\n",
        "    prompt = ChatPromptTemplate.from_template(template)\n",
        "\n",
        "    llm = ChatOpenAI(temperature=0, openai_api_key=openai_api_key)\n",
        "\n",
        "    # final_rag_chain assembled\n",
        "    final_rag_chain = (\n",
        "        {\"context\": retrieval_chain, \"question\": RunnablePassthrough()}\n",
        "        | prompt\n",
        "        | llm\n",
        "        | StrOutputParser()\n",
        "    )\n",
        "\n",
        "    # --- final_rag_chain logic ends here ---\n",
        "\n",
        "    # Invoke final_rag_chain with user_input\n",
        "    response = final_rag_chain.invoke({\"question\": user_input})\n",
        "\n",
        "    # Log the response and potentially other metadata\n",
        "    # ... (your logging logic) ...\n",
        "\n",
        "    return response\n",
        "\n",
        "pipeline(\"What are the key business strategies utilized by Uber?\")"
      ],
      "metadata": {
        "id": "YpYeOtGxXdsI"
      },
      "execution_count": null,
      "outputs": []
    },
    {
      "cell_type": "code",
      "source": [
        "dataset_name = \"Uber_10K_2023_v9\""
      ],
      "metadata": {
        "id": "vBmLhupyz0B_"
      },
      "execution_count": null,
      "outputs": []
    },
    {
      "cell_type": "code",
      "source": [
        "# create dataset\n",
        "from langsmith import Client\n",
        "import os\n",
        "\n",
        "dataset_inputs = [\n",
        "    '1. What are the key business strategies utilized by Uber?',\n",
        " '2. Can you provide a summary of Ubers business strategies?',\n",
        " '3. How does Uber approach its business strategies?',\n",
        " '4. What are the main tactics Uber uses to drive its business success?',\n",
        " '5. Could you outline the strategic approaches taken by Uber in its operations?'\n",
        "]\n",
        "\n",
        "dataset_outputs = [\n",
        "    {\"should_contain\": [\"ee the section titled “Reconciliations of Non-GAAP Financial Measures\", \"“Certain Key Metrics and Non-GAAP Financial Measures” below for more information\", \"MAPCs presented for annual periods are MAPCs for the fourth quarter of the year.\"]},\n",
        "    {\"should_contain\": [\"the following discussion contains forward-looking statements that reflect our plans, estimates,and beliefs. Our actual results could differ materially from those discussed in the forward-looking statements.\", '“Risk Factors”, for a discussion of factors thatcould cause actual results to differ materially from the results described in or implied by the forward-looking statements contained in the following discussion andanalysis']},\n",
        "    {\"should_contain\": [\"massive network, leading technology, operational excellence, and product expertise to power movement from point Ato point B. We develop and operate proprietary technology applications supporting a variety of offerings on our platform. We connect consumers with providers ofride services, merchants as well as delivery service providers for meal preparation, grocery and other delivery services.\"]},\n",
        "    {\"should_contain\": [\"Revenue $ 31,877 $ 37,281 17 % 18 %\\nIncome (loss) from operations $ (1,832) $ 1,110 **\\nNet income (loss) attributable to Uber Technologies, Inc. $ (9,141) $ 1,887\"]}, # reading from a table\n",
        "    {\"should_contain\": [\"EBITDA $ 1,713 $ 4,052 137 %\\nNet cash provided by operating activities $ 642 $ 3,585 **\\nFree cash flow $ 390 $ 3,362 **\\n See the section titled “Reconciliations of Non-GAAP Financial Measures” for more information and reconciliations to the most directly comparable GAAPfinancial measure.\\n See the section titled “Certain Key Metrics and Non-GAAP Financial Measures” below for more information.\\n MAPCs presented for annual periods are MAPCs for the fourth quarter of the year.\"]}, # reading from a table\n",
        "]\n",
        "\n",
        "# ensure you have this set up\n",
        "from google.colab import userdata\n",
        "os.environ[\"LANGCHAIN_API_KEY\"] = userdata.get('LANGCHAIN_API_KEY')\n",
        "langchain_api_key = os.environ[\"LANGCHAIN_API_KEY\"]\n",
        "\n",
        "client = Client(api_key=langchain_api_key)\n",
        "\n",
        "dataset = client.create_dataset(\n",
        "    dataset_name=dataset_name,\n",
        "    description=\"Uber 10K 2023 questions\",\n",
        ")\n",
        "client.create_examples(\n",
        "    inputs=[{\"question\": q} for q in dataset_inputs],\n",
        "    outputs=dataset_outputs,\n",
        "    dataset_id=dataset.id,\n",
        ")"
      ],
      "metadata": {
        "id": "jZiPRupZojqe"
      },
      "execution_count": null,
      "outputs": []
    },
    {
      "cell_type": "code",
      "execution_count": null,
      "metadata": {
        "id": "ooYcQV24j-wD"
      },
      "outputs": [],
      "source": [
        "import time\n",
        " #run evals in langsmith\n",
        "from langsmith.schemas import Run, Example\n",
        "\n",
        "from langsmith.evaluation import evaluate, LangChainStringEvaluator\n",
        "\n",
        "def should_contain(run: Run, example: Example) -> dict:\n",
        "    prediction = run.outputs.get(\"output\") or \"\"\n",
        "    required = example.outputs.get(\"should_contain\") or []\n",
        "    score = any(phrase in prediction for phrase in required)\n",
        "    return {\"key\":\"should_contain\", \"score\": score}\n",
        "\n",
        "rag_observability = [\n",
        "  should_contain,\n",
        "]\n",
        "runner = final_rag_chain\n",
        "def query_wrapper(query_dict):\n",
        "       start_time = time.time()\n",
        "       query_string = query_dict['question']\n",
        "       response = runner.invoke(query_string)\n",
        "       end_time = time.time()\n",
        "       execution_time = end_time - start_time\n",
        "       return {\"output\": response, \"execution_time\": execution_time}\n",
        "\n",
        "experiment_results = evaluate(\n",
        "    query_wrapper,\n",
        "    data=dataset_name,\n",
        "    evaluators=rag_observability,\n",
        "    experiment_prefix=\"uber10Kv2\",\n",
        "    client=client,\n",
        ")"
      ]
    },
    {
      "cell_type": "code",
      "source": [
        "!pip install --upgrade langchain langsmith"
      ],
      "metadata": {
        "id": "vSfuJ8WKjIxM"
      },
      "execution_count": null,
      "outputs": []
    },
    {
      "cell_type": "code",
      "source": [
        "from langsmith.evaluation import (\n",
        "       evaluate,\n",
        "       LangChainStringEvaluator,\n",
        "       PairwiseStringEvaluator,\n",
        "       RegexEvaluator\n",
        "   )\n",
        "def should_contain(run: Run, example: Example) -> dict:\n",
        "       prediction = run.outputs.get(\"output\") or \"\"\n",
        "       required = example.outputs.get(\"should_contain\") or []\n",
        "       score = any(phrase in prediction for phrase in required)\n",
        "       return {\"key\": \"should_contain\", \"score\": score}\n",
        "def similarity_to_ground_truth(run: Run, example: Example) -> dict:\n",
        "       prediction = run.outputs.get(\"output\") or \"\"\n",
        "       ground_truth = example.outputs.get(\"output\") or \"\"  # Ground truth\n",
        "       evaluator = PairwiseStringEvaluator(similarity_metric=\"cosine\")\n",
        "       score = evaluator.compare_strings(prediction, ground_truth)\n",
        "       return {\"key\": \"similarity\", \"score\": score}\n",
        "def contains_regex_pattern(run: Run, example: Example) -> dict:\n",
        "       prediction = run.outputs.get(\"output\") or \"\"\n",
        "       regex_pattern = example.outputs.get(\"regex_pattern\") or \"\"  # Get regex pattern\n",
        "       evaluator = RegexEvaluator(regex_pattern)\n",
        "       score = evaluator.evaluate_string(prediction)\n",
        "       return {\"key\": \"regex_match\", \"score\": score}\n",
        "rag_observability = [\n",
        "       should_contain,\n",
        "       similarity_to_ground_truth,\n",
        "       contains_regex_pattern,\n",
        "]"
      ],
      "metadata": {
        "id": "hMP_Eg0Iig1M"
      },
      "execution_count": null,
      "outputs": []
    },
    {
      "cell_type": "code",
      "source": [
        "import time\n",
        "\n",
        "def query_wrapper(query_dict):\n",
        "       start_time = time.time()\n",
        "       query_string = query_dict['question']\n",
        "       response = runner.invoke(query_string)\n",
        "       end_time = time.time()\n",
        "       execution_time = end_time - start_time\n",
        "       return {\"output\": response, \"execution_time\": execution_time}\n",
        "\n",
        "   # ... (later in the evaluate call) ...\n",
        "experiment_results = evaluate(\n",
        "       query_wrapper,\n",
        "       data=dataset_name,\n",
        "       evaluators=rag_observability,\n",
        "       experiment_prefix=\"uber10Kv4\",\n",
        "       client=client,\n",
        "       # Add metadata to runs for tracking\n",
        "       metadata={\"data_source\": dataset_name},\n",
        "       tags=[\"RAG\", \"Uber_10K\"],\n",
        "   )"
      ],
      "metadata": {
        "id": "lhRmfnXSikZm"
      },
      "execution_count": null,
      "outputs": []
    },
    {
      "cell_type": "code",
      "source": [
        "!pip install -U langchain langchain-openai"
      ],
      "metadata": {
        "id": "wmWTVN3CivKH"
      },
      "execution_count": null,
      "outputs": []
    },
    {
      "cell_type": "code",
      "source": [
        "from langchain_openai import ChatOpenAI\n",
        "\n",
        "llm = ChatOpenAI()\n",
        "llm.invoke(\"Hello, world!\")"
      ],
      "metadata": {
        "id": "u5_e9v_GkMcY"
      },
      "execution_count": null,
      "outputs": []
    }
  ],
  "metadata": {
    "colab": {
      "provenance": [],
      "include_colab_link": true
    },
    "kernelspec": {
      "display_name": "Python 3",
      "name": "python3"
    },
    "language_info": {
      "name": "python"
    }
  },
  "nbformat": 4,
  "nbformat_minor": 0
}